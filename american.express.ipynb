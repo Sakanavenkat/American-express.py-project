{
 "cells": [
  {
   "cell_type": "code",
   "execution_count": 2,
   "id": "5ff028ef-ad82-4b2f-9da8-be40ae247f2b",
   "metadata": {},
   "outputs": [
    {
     "name": "stdin",
     "output_type": "stream",
     "text": [
      "Enter your American Express card number:  371449635398431 \n"
     ]
    },
    {
     "name": "stdout",
     "output_type": "stream",
     "text": [
      "Valid American Express card.\n"
     ]
    }
   ],
   "source": [
    "def is_valid_amex(card_number):\n",
    "    card_number = card_number.replace(\" \", \"\")\n",
    "    \n",
    "    if len(card_number) != 15 or not card_number.startswith(('34', '37')):\n",
    "        return False\n",
    "\n",
    "    total = 0\n",
    "    reverse_digits = card_number[::-1]\n",
    "    \n",
    "    for i, digit in enumerate(reverse_digits):\n",
    "        n = int(digit)\n",
    "        if i % 2 == 1:\n",
    "            n *= 2\n",
    "            if n > 9:\n",
    "                n -= 9\n",
    "        total += n\n",
    "\n",
    "    return total % 10 == 0\n",
    "\n",
    "card = input(\"Enter your American Express card number: \")\n",
    "if is_valid_amex(card):\n",
    "    print(\"Valid American Express card.\")\n",
    "else:\n",
    "    print(\"Invalid card number.\")\n"
   ]
  },
  {
   "cell_type": "code",
   "execution_count": null,
   "id": "c0ebcbff-93bb-44ee-a4e6-8923f9be8675",
   "metadata": {},
   "outputs": [],
   "source": []
  }
 ],
 "metadata": {
  "kernelspec": {
   "display_name": "Python 3 (ipykernel)",
   "language": "python",
   "name": "python3"
  },
  "language_info": {
   "codemirror_mode": {
    "name": "ipython",
    "version": 3
   },
   "file_extension": ".py",
   "mimetype": "text/x-python",
   "name": "python",
   "nbconvert_exporter": "python",
   "pygments_lexer": "ipython3",
   "version": "3.12.7"
  }
 },
 "nbformat": 4,
 "nbformat_minor": 5
}
